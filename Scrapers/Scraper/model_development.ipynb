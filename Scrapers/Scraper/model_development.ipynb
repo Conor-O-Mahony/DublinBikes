{
 "cells": [
  {
   "cell_type": "code",
   "execution_count": 39,
   "metadata": {},
   "outputs": [],
   "source": [
    "from sqlalchemy import create_engine, text\n",
    "from dotenv import load_dotenv\n",
    "import os\n",
    "import pandas as pd\n",
    "from sklearn.linear_model import LogisticRegression\n",
    "from sklearn.model_selection import train_test_split\n",
    "from sklearn.metrics import classification_report\n",
    "import dbManager  # Assuming dbManager is properly set up for using SQLAlchemy\n"
   ]
  },
  {
   "cell_type": "code",
   "execution_count": 40,
   "metadata": {},
   "outputs": [
    {
     "name": "stdout",
     "output_type": "stream",
     "text": [
      "2024-04-05 15:47:11,059 INFO sqlalchemy.engine.Engine SELECT DATABASE()\n",
      "2024-04-05 15:47:11,061 INFO sqlalchemy.engine.Engine [raw sql] {}\n",
      "2024-04-05 15:47:11,226 INFO sqlalchemy.engine.Engine SELECT @@sql_mode\n",
      "2024-04-05 15:47:11,228 INFO sqlalchemy.engine.Engine [raw sql] {}\n",
      "2024-04-05 15:47:11,295 INFO sqlalchemy.engine.Engine SELECT @@lower_case_table_names\n",
      "2024-04-05 15:47:11,297 INFO sqlalchemy.engine.Engine [raw sql] {}\n",
      "Connection established successfully.\n"
     ]
    }
   ],
   "source": [
    "load_dotenv('.env')\n",
    "\n",
    "DB_PASSWORD = os.getenv(\"DB_PASSWORD\")\n",
    "URI = 'dublinbikes.clw8uqmac8qf.eu-west-1.rds.amazonaws.com'\n",
    "PORT = 3306\n",
    "USER = 'admin'\n",
    "DB = 'dbikes'\n",
    "\n",
    "# Connect to the db\n",
    "connection_string = f\"mysql+mysqlconnector://{USER}:{DB_PASSWORD}@{URI}:{PORT}/{DB}\"\n",
    "engine = create_engine(connection_string, echo=True)\n",
    "\n",
    "\n",
    "# Testing\n",
    "try:\n",
    "    connection = engine.connect()\n",
    "    print(\"Connection established successfully.\")\n",
    "\n",
    "except Exception as e:\n",
    "    print(\"Failed to establish connection:\", e)\n"
   ]
  },
  {
   "cell_type": "code",
   "execution_count": 41,
   "metadata": {},
   "outputs": [],
   "source": [
    "import pandas as pd\n",
    "\n",
    "def get_station_data():\n",
    "    query = f\"SELECT * FROM availability\"\n",
    "    df = pd.read_sql(query, engine)\n",
    "    return df\n"
   ]
  },
  {
   "cell_type": "code",
   "execution_count": 42,
   "metadata": {},
   "outputs": [],
   "source": [
    "def get_weather_data():\n",
    "    query = \"SELECT * FROM currentweather\"\n",
    "    df = pd.read_sql(query, engine)\n",
    "    return df\n"
   ]
  },
  {
   "cell_type": "code",
   "execution_count": 43,
   "metadata": {},
   "outputs": [],
   "source": [
    "def create_weather_df():\n",
    "    weather_df = get_weather_data()\n",
    "    weather_df['timestamp'] = pd.to_datetime(weather_df['timestamp'], unit='s')\n",
    "    # Create a merge key that includes up to the minute\n",
    "    weather_df['merge_key'] = weather_df['timestamp'].dt.strftime('%Y-%m-%d %H:%M')\n",
    "    return weather_df\n",
    "\n",
    "def availability_df():\n",
    "    availability_df = get_station_data()\n",
    "    availability_df['timestamp'] = pd.to_datetime(availability_df['timestamp'], unit='s')\n",
    "    # Create a merge key that includes up to the minute\n",
    "    availability_df['merge_key'] = availability_df['timestamp'].dt.strftime('%Y-%m-%d %H:%M')\n",
    "    return availability_df\n",
    "\n",
    "\n",
    "def merge_dfs(weather_df):\n",
    "    availability = availability_df()\n",
    "    # Merge on the new merge_key\n",
    "    merged_df = pd.merge(weather_df, availability, on='merge_key', how='inner')\n",
    "    # Optionally, convert merge_key back to datetime for further time-based analysis\n",
    "    merged_df['timestamp'] = pd.to_datetime(merged_df['merge_key'])\n",
    "    return merged_df\n"
   ]
  },
  {
   "cell_type": "code",
   "execution_count": 44,
   "metadata": {},
   "outputs": [
    {
     "name": "stdout",
     "output_type": "stream",
     "text": [
      "2024-04-05 15:47:11,763 INFO sqlalchemy.engine.Engine BEGIN (implicit)\n",
      "2024-04-05 15:47:11,764 INFO sqlalchemy.engine.Engine DESCRIBE `dbikes`.`SELECT * FROM currentweather`\n",
      "2024-04-05 15:47:11,764 INFO sqlalchemy.engine.Engine [raw sql] {}\n",
      "2024-04-05 15:47:11,841 INFO sqlalchemy.engine.Engine SELECT * FROM currentweather\n",
      "2024-04-05 15:47:11,842 INFO sqlalchemy.engine.Engine [raw sql] {}\n",
      "2024-04-05 15:47:12,421 INFO sqlalchemy.engine.Engine ROLLBACK\n",
      "2024-04-05 15:47:12,516 INFO sqlalchemy.engine.Engine BEGIN (implicit)\n",
      "2024-04-05 15:47:12,516 INFO sqlalchemy.engine.Engine DESCRIBE `dbikes`.`SELECT * FROM availability`\n",
      "2024-04-05 15:47:12,517 INFO sqlalchemy.engine.Engine [raw sql] {}\n",
      "2024-04-05 15:47:12,644 INFO sqlalchemy.engine.Engine SELECT * FROM availability\n",
      "2024-04-05 15:47:12,644 INFO sqlalchemy.engine.Engine [raw sql] {}\n",
      "2024-04-05 15:48:33,402 INFO sqlalchemy.engine.Engine ROLLBACK\n"
     ]
    }
   ],
   "source": [
    "merged_df = merge_dfs(create_weather_df())"
   ]
  },
  {
   "cell_type": "code",
   "execution_count": 45,
   "metadata": {},
   "outputs": [
    {
     "name": "stdout",
     "output_type": "stream",
     "text": [
      "Total number of rows in merged_df: 1199508\n",
      "\n",
      "Number of rows for each station:\n",
      "Station 1: 10522 rows\n",
      "Station 2: 10522 rows\n",
      "Station 3: 10522 rows\n",
      "Station 4: 10522 rows\n",
      "Station 5: 10522 rows\n",
      "Station 6: 10522 rows\n",
      "Station 7: 10522 rows\n",
      "Station 8: 10522 rows\n",
      "Station 9: 10522 rows\n",
      "Station 10: 10522 rows\n",
      "Station 11: 10522 rows\n",
      "Station 12: 10522 rows\n",
      "Station 13: 10522 rows\n",
      "Station 14: 10522 rows\n",
      "Station 15: 10522 rows\n",
      "Station 16: 10522 rows\n",
      "Station 17: 10522 rows\n",
      "Station 18: 10522 rows\n",
      "Station 19: 10522 rows\n",
      "Station 20: 10522 rows\n",
      "Station 21: 10522 rows\n",
      "Station 22: 10522 rows\n",
      "Station 23: 10522 rows\n",
      "Station 24: 10522 rows\n",
      "Station 25: 10522 rows\n",
      "Station 26: 10522 rows\n",
      "Station 27: 10522 rows\n",
      "Station 28: 10522 rows\n",
      "Station 29: 10522 rows\n",
      "Station 30: 10522 rows\n",
      "Station 31: 10522 rows\n",
      "Station 32: 10522 rows\n",
      "Station 33: 10522 rows\n",
      "Station 34: 10522 rows\n",
      "Station 35: 10522 rows\n",
      "Station 36: 10522 rows\n",
      "Station 37: 10522 rows\n",
      "Station 38: 10522 rows\n",
      "Station 39: 10522 rows\n",
      "Station 40: 10522 rows\n",
      "Station 41: 10522 rows\n",
      "Station 42: 10522 rows\n",
      "Station 43: 10522 rows\n",
      "Station 44: 10522 rows\n",
      "Station 45: 10522 rows\n",
      "Station 47: 10522 rows\n",
      "Station 48: 10522 rows\n",
      "Station 49: 10522 rows\n",
      "Station 50: 10522 rows\n",
      "Station 51: 10522 rows\n",
      "Station 52: 10522 rows\n",
      "Station 53: 10522 rows\n",
      "Station 54: 10522 rows\n",
      "Station 55: 10522 rows\n",
      "Station 56: 10522 rows\n",
      "Station 57: 10522 rows\n",
      "Station 58: 10522 rows\n",
      "Station 59: 10522 rows\n",
      "Station 60: 10522 rows\n",
      "Station 61: 10522 rows\n",
      "Station 62: 10522 rows\n",
      "Station 63: 10522 rows\n",
      "Station 64: 10522 rows\n",
      "Station 65: 10522 rows\n",
      "Station 66: 10522 rows\n",
      "Station 67: 10522 rows\n",
      "Station 68: 10522 rows\n",
      "Station 69: 10522 rows\n",
      "Station 71: 10522 rows\n",
      "Station 72: 10522 rows\n",
      "Station 73: 10522 rows\n",
      "Station 74: 10522 rows\n",
      "Station 75: 10522 rows\n",
      "Station 76: 10522 rows\n",
      "Station 77: 10522 rows\n",
      "Station 78: 10522 rows\n",
      "Station 79: 10522 rows\n",
      "Station 80: 10522 rows\n",
      "Station 82: 10522 rows\n",
      "Station 83: 10522 rows\n",
      "Station 84: 10522 rows\n",
      "Station 85: 10522 rows\n",
      "Station 86: 10522 rows\n",
      "Station 87: 10522 rows\n",
      "Station 88: 10522 rows\n",
      "Station 89: 10522 rows\n",
      "Station 90: 10522 rows\n",
      "Station 91: 10522 rows\n",
      "Station 92: 10522 rows\n",
      "Station 93: 10522 rows\n",
      "Station 94: 10522 rows\n",
      "Station 95: 10522 rows\n",
      "Station 96: 10522 rows\n",
      "Station 97: 10522 rows\n",
      "Station 98: 10522 rows\n",
      "Station 99: 10522 rows\n",
      "Station 100: 10522 rows\n",
      "Station 101: 10522 rows\n",
      "Station 102: 10522 rows\n",
      "Station 103: 10522 rows\n",
      "Station 104: 10522 rows\n",
      "Station 105: 10522 rows\n",
      "Station 106: 10522 rows\n",
      "Station 107: 10522 rows\n",
      "Station 108: 10522 rows\n",
      "Station 109: 10522 rows\n",
      "Station 110: 10522 rows\n",
      "Station 111: 10522 rows\n",
      "Station 112: 10522 rows\n",
      "Station 113: 10522 rows\n",
      "Station 114: 10522 rows\n",
      "Station 115: 10522 rows\n",
      "Station 116: 10522 rows\n",
      "Station 117: 10522 rows\n"
     ]
    }
   ],
   "source": [
    "# Print the total number of rows in merged_df\n",
    "print(f\"Total number of rows in merged_df: {merged_df.shape[0]}\")\n",
    "\n",
    "# Print the number of rows for each station\n",
    "rows_per_station = merged_df.groupby('number').size()\n",
    "print(\"\\nNumber of rows for each station:\")\n",
    "\n",
    "for number, count in rows_per_station.items():\n",
    "    print(f\"Station {number}: {count} rows\")\n"
   ]
  },
  {
   "cell_type": "code",
   "execution_count": 46,
   "metadata": {},
   "outputs": [],
   "source": [
    "# Feature Engineering: Add day of the week and hour as features\n",
    "merged_df['day_of_week'] = merged_df['timestamp'].dt.dayofweek\n",
    "merged_df['hour'] = merged_df['timestamp'].dt.hour\n",
    "\n",
    "# Select features and target for the model\n",
    "features = ['temperature', 'rainfall', 'day_of_week', 'hour']  # Example feature set\n",
    "target = 'bikes'  # Target variable\n"
   ]
  },
  {
   "cell_type": "code",
   "execution_count": 47,
   "metadata": {},
   "outputs": [],
   "source": [
    "from sklearn.model_selection import train_test_split\n",
    "\n",
    "# Assuming no missing values or categorical variables for simplicity\n",
    "X = merged_df[features]\n",
    "y = merged_df[target]\n",
    "\n",
    "X_train, X_test, y_train, y_test = train_test_split(X, y, test_size=0.2, random_state=42)\n"
   ]
  }
 ],
 "metadata": {
  "kernelspec": {
   "display_name": "base",
   "language": "python",
   "name": "python3"
  },
  "language_info": {
   "codemirror_mode": {
    "name": "ipython",
    "version": 3
   },
   "file_extension": ".py",
   "mimetype": "text/x-python",
   "name": "python",
   "nbconvert_exporter": "python",
   "pygments_lexer": "ipython3",
   "version": "3.11.7"
  }
 },
 "nbformat": 4,
 "nbformat_minor": 2
}
